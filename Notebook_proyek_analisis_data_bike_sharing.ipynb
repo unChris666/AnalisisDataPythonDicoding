{
  "cells": [
    {
      "cell_type": "markdown",
      "metadata": {
        "id": "cP5zh7Ww85Fm"
      },
      "source": [
        "# Proyek Analisis Data: Nama dataset\n",
        "- Nama: Christian Arvianus Nathanael Biran\n",
        "- Email: nathanaelbiran@gmail.com\n",
        "- Id Dicoding: nathanael_biran"
      ]
    },
    {
      "cell_type": "markdown",
      "metadata": {
        "id": "ggwOFmpI88dG"
      },
      "source": [
        "## Menentukan Pertanyaan Bisnis"
      ]
    },
    {
      "cell_type": "markdown",
      "metadata": {
        "id": "6irqmTtg8-IC"
      },
      "source": [
        "- Kapan periode peminjaman sepeda tertinggi ?\n",
        "- Bagaimana perbandingan peminjaman sepeda tiap musim dan cuacanya ?"
      ]
    },
    {
      "cell_type": "markdown",
      "metadata": {
        "id": "EueHsNk89AsY"
      },
      "source": [
        "## Menyaipkan semua library yang dibuthkan"
      ]
    },
    {
      "cell_type": "code",
      "execution_count": 6,
      "metadata": {
        "colab": {
          "base_uri": "https://localhost:8080/"
        },
        "id": "xKXfabP7-Lz6",
        "outputId": "35f29d80-f294-4414-e9f0-654681d86239"
      },
      "outputs": [
        {
          "name": "stdout",
          "output_type": "stream",
          "text": [
            "Requirement already satisfied: streamlit in c:\\users\\dell latitude 7280\\appdata\\local\\programs\\python\\python311\\lib\\site-packages (1.28.1)\n",
            "Requirement already satisfied: altair<6,>=4.0 in c:\\users\\dell latitude 7280\\appdata\\local\\programs\\python\\python311\\lib\\site-packages (from streamlit) (5.1.2)\n",
            "Requirement already satisfied: blinker<2,>=1.0.0 in c:\\users\\dell latitude 7280\\appdata\\local\\programs\\python\\python311\\lib\\site-packages (from streamlit) (1.7.0)\n",
            "Requirement already satisfied: cachetools<6,>=4.0 in c:\\users\\dell latitude 7280\\appdata\\local\\programs\\python\\python311\\lib\\site-packages (from streamlit) (5.3.2)\n",
            "Requirement already satisfied: click<9,>=7.0 in c:\\users\\dell latitude 7280\\appdata\\local\\programs\\python\\python311\\lib\\site-packages (from streamlit) (8.1.3)\n",
            "Requirement already satisfied: importlib-metadata<7,>=1.4 in c:\\users\\dell latitude 7280\\appdata\\local\\programs\\python\\python311\\lib\\site-packages (from streamlit) (6.8.0)\n",
            "Requirement already satisfied: numpy<2,>=1.19.3 in c:\\users\\dell latitude 7280\\appdata\\local\\programs\\python\\python311\\lib\\site-packages (from streamlit) (1.25.0)\n",
            "Requirement already satisfied: packaging<24,>=16.8 in c:\\users\\dell latitude 7280\\appdata\\roaming\\python\\python311\\site-packages (from streamlit) (21.3)\n",
            "Requirement already satisfied: pandas<3,>=1.3.0 in c:\\users\\dell latitude 7280\\appdata\\local\\programs\\python\\python311\\lib\\site-packages (from streamlit) (2.0.3)\n",
            "Requirement already satisfied: pillow<11,>=7.1.0 in c:\\users\\dell latitude 7280\\appdata\\local\\programs\\python\\python311\\lib\\site-packages (from streamlit) (9.5.0)\n",
            "Requirement already satisfied: protobuf<5,>=3.20 in c:\\users\\dell latitude 7280\\appdata\\local\\programs\\python\\python311\\lib\\site-packages (from streamlit) (4.25.0)\n",
            "Requirement already satisfied: pyarrow>=6.0 in c:\\users\\dell latitude 7280\\appdata\\local\\programs\\python\\python311\\lib\\site-packages (from streamlit) (14.0.0)\n",
            "Requirement already satisfied: python-dateutil<3,>=2.7.3 in c:\\users\\dell latitude 7280\\appdata\\roaming\\python\\python311\\site-packages (from streamlit) (2.8.2)\n",
            "Requirement already satisfied: requests<3,>=2.27 in c:\\users\\dell latitude 7280\\appdata\\local\\programs\\python\\python311\\lib\\site-packages (from streamlit) (2.28.2)\n",
            "Requirement already satisfied: rich<14,>=10.14.0 in c:\\users\\dell latitude 7280\\appdata\\local\\programs\\python\\python311\\lib\\site-packages (from streamlit) (13.6.0)\n",
            "Requirement already satisfied: tenacity<9,>=8.1.0 in c:\\users\\dell latitude 7280\\appdata\\local\\programs\\python\\python311\\lib\\site-packages (from streamlit) (8.2.2)\n",
            "Requirement already satisfied: toml<2,>=0.10.1 in c:\\users\\dell latitude 7280\\appdata\\local\\programs\\python\\python311\\lib\\site-packages (from streamlit) (0.10.2)\n",
            "Requirement already satisfied: typing-extensions<5,>=4.3.0 in c:\\users\\dell latitude 7280\\appdata\\local\\programs\\python\\python311\\lib\\site-packages (from streamlit) (4.8.0)\n",
            "Requirement already satisfied: tzlocal<6,>=1.1 in c:\\users\\dell latitude 7280\\appdata\\local\\programs\\python\\python311\\lib\\site-packages (from streamlit) (5.2)\n",
            "Requirement already satisfied: validators<1,>=0.2 in c:\\users\\dell latitude 7280\\appdata\\local\\programs\\python\\python311\\lib\\site-packages (from streamlit) (0.22.0)\n",
            "Requirement already satisfied: gitpython!=3.1.19,<4,>=3.0.7 in c:\\users\\dell latitude 7280\\appdata\\local\\programs\\python\\python311\\lib\\site-packages (from streamlit) (3.1.40)\n",
            "Requirement already satisfied: pydeck<1,>=0.8.0b4 in c:\\users\\dell latitude 7280\\appdata\\local\\programs\\python\\python311\\lib\\site-packages (from streamlit) (0.8.1b0)\n",
            "Requirement already satisfied: tornado<7,>=6.0.3 in c:\\users\\dell latitude 7280\\appdata\\roaming\\python\\python311\\site-packages (from streamlit) (6.2)\n",
            "Requirement already satisfied: watchdog>=2.1.5 in c:\\users\\dell latitude 7280\\appdata\\local\\programs\\python\\python311\\lib\\site-packages (from streamlit) (3.0.0)\n",
            "Requirement already satisfied: jinja2 in c:\\users\\dell latitude 7280\\appdata\\local\\programs\\python\\python311\\lib\\site-packages (from altair<6,>=4.0->streamlit) (3.1.2)\n",
            "Requirement already satisfied: jsonschema>=3.0 in c:\\users\\dell latitude 7280\\appdata\\local\\programs\\python\\python311\\lib\\site-packages (from altair<6,>=4.0->streamlit) (4.18.0)\n",
            "Requirement already satisfied: toolz in c:\\users\\dell latitude 7280\\appdata\\local\\programs\\python\\python311\\lib\\site-packages (from altair<6,>=4.0->streamlit) (0.12.0)\n",
            "Requirement already satisfied: colorama in c:\\users\\dell latitude 7280\\appdata\\roaming\\python\\python311\\site-packages (from click<9,>=7.0->streamlit) (0.4.6)\n",
            "Requirement already satisfied: gitdb<5,>=4.0.1 in c:\\users\\dell latitude 7280\\appdata\\local\\programs\\python\\python311\\lib\\site-packages (from gitpython!=3.1.19,<4,>=3.0.7->streamlit) (4.0.11)\n",
            "Requirement already satisfied: zipp>=0.5 in c:\\users\\dell latitude 7280\\appdata\\local\\programs\\python\\python311\\lib\\site-packages (from importlib-metadata<7,>=1.4->streamlit) (3.17.0)\n",
            "Requirement already satisfied: pyparsing!=3.0.5,>=2.0.2 in c:\\users\\dell latitude 7280\\appdata\\roaming\\python\\python311\\site-packages (from packaging<24,>=16.8->streamlit) (3.0.9)\n",
            "Requirement already satisfied: pytz>=2020.1 in c:\\users\\dell latitude 7280\\appdata\\local\\programs\\python\\python311\\lib\\site-packages (from pandas<3,>=1.3.0->streamlit) (2023.3)\n",
            "Requirement already satisfied: tzdata>=2022.1 in c:\\users\\dell latitude 7280\\appdata\\local\\programs\\python\\python311\\lib\\site-packages (from pandas<3,>=1.3.0->streamlit) (2023.3)\n",
            "Requirement already satisfied: six>=1.5 in c:\\users\\dell latitude 7280\\appdata\\roaming\\python\\python311\\site-packages (from python-dateutil<3,>=2.7.3->streamlit) (1.16.0)\n",
            "Requirement already satisfied: charset-normalizer<4,>=2 in c:\\users\\dell latitude 7280\\appdata\\local\\programs\\python\\python311\\lib\\site-packages (from requests<3,>=2.27->streamlit) (3.1.0)\n",
            "Requirement already satisfied: idna<4,>=2.5 in c:\\users\\dell latitude 7280\\appdata\\local\\programs\\python\\python311\\lib\\site-packages (from requests<3,>=2.27->streamlit) (3.4)\n",
            "Requirement already satisfied: urllib3<1.27,>=1.21.1 in c:\\users\\dell latitude 7280\\appdata\\local\\programs\\python\\python311\\lib\\site-packages (from requests<3,>=2.27->streamlit) (1.26.15)\n",
            "Requirement already satisfied: certifi>=2017.4.17 in c:\\users\\dell latitude 7280\\appdata\\local\\programs\\python\\python311\\lib\\site-packages (from requests<3,>=2.27->streamlit) (2022.12.7)\n",
            "Requirement already satisfied: markdown-it-py>=2.2.0 in c:\\users\\dell latitude 7280\\appdata\\local\\programs\\python\\python311\\lib\\site-packages (from rich<14,>=10.14.0->streamlit) (3.0.0)\n",
            "Requirement already satisfied: pygments<3.0.0,>=2.13.0 in c:\\users\\dell latitude 7280\\appdata\\roaming\\python\\python311\\site-packages (from rich<14,>=10.14.0->streamlit) (2.13.0)\n",
            "Requirement already satisfied: smmap<6,>=3.0.1 in c:\\users\\dell latitude 7280\\appdata\\local\\programs\\python\\python311\\lib\\site-packages (from gitdb<5,>=4.0.1->gitpython!=3.1.19,<4,>=3.0.7->streamlit) (5.0.1)\n",
            "Requirement already satisfied: MarkupSafe>=2.0 in c:\\users\\dell latitude 7280\\appdata\\local\\programs\\python\\python311\\lib\\site-packages (from jinja2->altair<6,>=4.0->streamlit) (2.1.3)\n",
            "Requirement already satisfied: attrs>=22.2.0 in c:\\users\\dell latitude 7280\\appdata\\local\\programs\\python\\python311\\lib\\site-packages (from jsonschema>=3.0->altair<6,>=4.0->streamlit) (23.1.0)\n",
            "Requirement already satisfied: jsonschema-specifications>=2023.03.6 in c:\\users\\dell latitude 7280\\appdata\\local\\programs\\python\\python311\\lib\\site-packages (from jsonschema>=3.0->altair<6,>=4.0->streamlit) (2023.6.1)\n",
            "Requirement already satisfied: referencing>=0.28.4 in c:\\users\\dell latitude 7280\\appdata\\local\\programs\\python\\python311\\lib\\site-packages (from jsonschema>=3.0->altair<6,>=4.0->streamlit) (0.29.1)\n",
            "Requirement already satisfied: rpds-py>=0.7.1 in c:\\users\\dell latitude 7280\\appdata\\local\\programs\\python\\python311\\lib\\site-packages (from jsonschema>=3.0->altair<6,>=4.0->streamlit) (0.7.1)\n",
            "Requirement already satisfied: mdurl~=0.1 in c:\\users\\dell latitude 7280\\appdata\\local\\programs\\python\\python311\\lib\\site-packages (from markdown-it-py>=2.2.0->rich<14,>=10.14.0->streamlit) (0.1.2)\n"
          ]
        }
      ],
      "source": [
        "!pip install streamlit"
      ]
    },
    {
      "cell_type": "code",
      "execution_count": 7,
      "metadata": {
        "colab": {
          "base_uri": "https://localhost:8080/"
        },
        "id": "4cmWv4qc8xWu",
        "outputId": "53b629c5-de0c-4dd5-d347-244f07090c0d"
      },
      "outputs": [],
      "source": [
        "import pandas as pd\n",
        "import numpy as np\n",
        "import matplotlib.pyplot as plt\n",
        "import streamlit\n",
        "import seaborn as sns\n",
        "# from google.colab import drive\n",
        "# drive.mount('/content/drive')"
      ]
    },
    {
      "cell_type": "markdown",
      "metadata": {
        "id": "7DwSpkkZ9BqV"
      },
      "source": [
        "## Data Wrangling"
      ]
    },
    {
      "cell_type": "markdown",
      "metadata": {
        "id": "ZuJuLGxe9D9O"
      },
      "source": [
        "### Gathering Data"
      ]
    },
    {
      "cell_type": "code",
      "execution_count": 8,
      "metadata": {
        "id": "Rg3wtvOr9DUm"
      },
      "outputs": [],
      "source": [
        "# filepath = \"/content/drive/MyDrive/Dummy/Bike-sharing-dataset/day.csv\""
      ]
    },
    {
      "cell_type": "code",
      "execution_count": 9,
      "metadata": {
        "colab": {
          "base_uri": "https://localhost:8080/"
        },
        "id": "tsT3mhEmVam2",
        "outputId": "8224acfe-9e36-44d1-d2ab-bf58bd82287b"
      },
      "outputs": [
        {
          "name": "stdout",
          "output_type": "stream",
          "text": [
            "<class 'pandas.core.frame.DataFrame'>\n",
            "RangeIndex: 731 entries, 0 to 730\n",
            "Data columns (total 16 columns):\n",
            " #   Column      Non-Null Count  Dtype  \n",
            "---  ------      --------------  -----  \n",
            " 0   instant     731 non-null    int64  \n",
            " 1   dteday      731 non-null    object \n",
            " 2   season      731 non-null    int64  \n",
            " 3   yr          731 non-null    int64  \n",
            " 4   mnth        731 non-null    int64  \n",
            " 5   holiday     731 non-null    int64  \n",
            " 6   weekday     731 non-null    int64  \n",
            " 7   workingday  731 non-null    int64  \n",
            " 8   weathersit  731 non-null    int64  \n",
            " 9   temp        731 non-null    float64\n",
            " 10  atemp       731 non-null    float64\n",
            " 11  hum         731 non-null    float64\n",
            " 12  windspeed   731 non-null    float64\n",
            " 13  casual      731 non-null    int64  \n",
            " 14  registered  731 non-null    int64  \n",
            " 15  cnt         731 non-null    int64  \n",
            "dtypes: float64(4), int64(11), object(1)\n",
            "memory usage: 91.5+ KB\n"
          ]
        }
      ],
      "source": [
        "# df = pd.read_csv(filepath)\n",
        "df = pd.read_csv('day.csv')\n",
        "df.info()"
      ]
    },
    {
      "cell_type": "code",
      "execution_count": 10,
      "metadata": {
        "id": "3X8AvMtxhziH"
      },
      "outputs": [],
      "source": [
        "# Mengganti data season dengan nama musim\n",
        "df[\"season\"] = df[\"season\"].replace({1: \"springer\", 2: \"summer\", 3: \"fall\", 4: \"winter\"})\n",
        "\n",
        "# Mengganti data workingday dengan Ya/Tidak\n",
        "df[\"workingday\"] = df[\"workingday\"].replace({0: \"No\", 1: \"Yes\"})\n",
        "\n",
        "# Mengganti data holiday dengan Ya/Tidak\n",
        "df[\"holiday\"] = df[\"holiday\"].replace({0: \"No\", 1: \"Yes\"})\n",
        "\n",
        "# Mengganti data yr dengan tahun\n",
        "df[\"yr\"] = df[\"yr\"].replace({0: \"2011\", 1: \"2012\"}).astype(\"str\")\n",
        "\n",
        "# Mengganti data mnth dengan nama bulan\n",
        "bulan = {\n",
        "    1: \"Januari\",\n",
        "    2: \"Februari\",\n",
        "    3: \"Maret\",\n",
        "    4: \"April\",\n",
        "    5: \"Mei\",\n",
        "    6: \"Juni\",\n",
        "    7: \"Juli\",\n",
        "    8: \"Agustus\",\n",
        "    9: \"September\",\n",
        "    10: \"Oktober\",\n",
        "    11: \"November\",\n",
        "    12: \"Desember\"\n",
        "}\n",
        "df[\"mnth\"] = df[\"mnth\"].map(bulan)\n",
        "\n",
        "# Mengubah tipe data weathersit menjadi kategori\n",
        "df[\"weathersit\"] = df[\"weathersit\"].astype(\"category\")\n"
      ]
    },
    {
      "cell_type": "markdown",
      "metadata": {
        "id": "BvZAfrSH9F2U"
      },
      "source": [
        "### Assessing Data"
      ]
    },
    {
      "cell_type": "code",
      "execution_count": 11,
      "metadata": {
        "colab": {
          "base_uri": "https://localhost:8080/"
        },
        "id": "fx7PaLsV9G8M",
        "outputId": "9b5d7dee-7055-4bf7-ade3-d80e732b8305"
      },
      "outputs": [
        {
          "data": {
            "text/plain": [
              "instant       0\n",
              "dteday        0\n",
              "season        0\n",
              "yr            0\n",
              "mnth          0\n",
              "holiday       0\n",
              "weekday       0\n",
              "workingday    0\n",
              "weathersit    0\n",
              "temp          0\n",
              "atemp         0\n",
              "hum           0\n",
              "windspeed     0\n",
              "casual        0\n",
              "registered    0\n",
              "cnt           0\n",
              "dtype: int64"
            ]
          },
          "execution_count": 11,
          "metadata": {},
          "output_type": "execute_result"
        }
      ],
      "source": [
        "#missing value\n",
        "df.isnull().sum()"
      ]
    },
    {
      "cell_type": "code",
      "execution_count": 12,
      "metadata": {
        "colab": {
          "base_uri": "https://localhost:8080/"
        },
        "id": "Rw6XWxSaYyPB",
        "outputId": "ea64cfc6-5ff5-4ef4-eaa0-dbf4534b9c79"
      },
      "outputs": [
        {
          "name": "stdout",
          "output_type": "stream",
          "text": [
            "instant : 731\n",
            "dteday : 731\n",
            "season : 4\n",
            "yr : 2\n",
            "mnth : 12\n",
            "holiday : 2\n",
            "weekday : 7\n",
            "workingday : 2\n",
            "weathersit : 3\n",
            "temp : 499\n",
            "atemp : 690\n",
            "hum : 595\n",
            "windspeed : 650\n",
            "casual : 606\n",
            "registered : 679\n",
            "cnt : 696\n"
          ]
        }
      ],
      "source": [
        "# invalid value\n",
        "for i in df.keys():\n",
        "  print(i, \":\", df[i].nunique()) #sesuai dengan deskripsi dataset"
      ]
    },
    {
      "cell_type": "code",
      "execution_count": 13,
      "metadata": {
        "colab": {
          "base_uri": "https://localhost:8080/"
        },
        "id": "4YGMJse8ZVli",
        "outputId": "ed4efa3c-f2e7-4040-e3df-0e05023ec197"
      },
      "outputs": [
        {
          "data": {
            "text/plain": [
              "0"
            ]
          },
          "execution_count": 13,
          "metadata": {},
          "output_type": "execute_result"
        }
      ],
      "source": [
        "# duplicated data\n",
        "df.duplicated().sum()"
      ]
    },
    {
      "cell_type": "markdown",
      "metadata": {
        "id": "Uz5dgcJm9HW5"
      },
      "source": [
        "### Cleaning Data"
      ]
    },
    {
      "cell_type": "code",
      "execution_count": 14,
      "metadata": {
        "id": "CCszTdXD9Ivf"
      },
      "outputs": [],
      "source": [
        "# datanya aman"
      ]
    },
    {
      "cell_type": "markdown",
      "metadata": {
        "id": "EyPJaCDm9KFb"
      },
      "source": [
        "## Exploratory Data Analysis (EDA)"
      ]
    },
    {
      "cell_type": "markdown",
      "metadata": {
        "id": "hxgJ6qd69Mce"
      },
      "source": [
        "### Explore ..."
      ]
    },
    {
      "cell_type": "code",
      "execution_count": 15,
      "metadata": {
        "colab": {
          "base_uri": "https://localhost:8080/",
          "height": 0
        },
        "id": "Xo68yguo9LTl",
        "outputId": "9cd77a1d-bd70-4543-8330-0f14a87b187f"
      },
      "outputs": [
        {
          "data": {
            "text/html": [
              "<div>\n",
              "<style scoped>\n",
              "    .dataframe tbody tr th:only-of-type {\n",
              "        vertical-align: middle;\n",
              "    }\n",
              "\n",
              "    .dataframe tbody tr th {\n",
              "        vertical-align: top;\n",
              "    }\n",
              "\n",
              "    .dataframe thead th {\n",
              "        text-align: right;\n",
              "    }\n",
              "</style>\n",
              "<table border=\"1\" class=\"dataframe\">\n",
              "  <thead>\n",
              "    <tr style=\"text-align: right;\">\n",
              "      <th></th>\n",
              "      <th>instant</th>\n",
              "      <th>weekday</th>\n",
              "      <th>temp</th>\n",
              "      <th>atemp</th>\n",
              "      <th>hum</th>\n",
              "      <th>windspeed</th>\n",
              "      <th>casual</th>\n",
              "      <th>registered</th>\n",
              "      <th>cnt</th>\n",
              "    </tr>\n",
              "  </thead>\n",
              "  <tbody>\n",
              "    <tr>\n",
              "      <th>count</th>\n",
              "      <td>731.000000</td>\n",
              "      <td>731.000000</td>\n",
              "      <td>731.000000</td>\n",
              "      <td>731.000000</td>\n",
              "      <td>731.000000</td>\n",
              "      <td>731.000000</td>\n",
              "      <td>731.000000</td>\n",
              "      <td>731.000000</td>\n",
              "      <td>731.000000</td>\n",
              "    </tr>\n",
              "    <tr>\n",
              "      <th>mean</th>\n",
              "      <td>366.000000</td>\n",
              "      <td>2.997264</td>\n",
              "      <td>0.495385</td>\n",
              "      <td>0.474354</td>\n",
              "      <td>0.627894</td>\n",
              "      <td>0.190486</td>\n",
              "      <td>848.176471</td>\n",
              "      <td>3656.172367</td>\n",
              "      <td>4504.348837</td>\n",
              "    </tr>\n",
              "    <tr>\n",
              "      <th>std</th>\n",
              "      <td>211.165812</td>\n",
              "      <td>2.004787</td>\n",
              "      <td>0.183051</td>\n",
              "      <td>0.162961</td>\n",
              "      <td>0.142429</td>\n",
              "      <td>0.077498</td>\n",
              "      <td>686.622488</td>\n",
              "      <td>1560.256377</td>\n",
              "      <td>1937.211452</td>\n",
              "    </tr>\n",
              "    <tr>\n",
              "      <th>min</th>\n",
              "      <td>1.000000</td>\n",
              "      <td>0.000000</td>\n",
              "      <td>0.059130</td>\n",
              "      <td>0.079070</td>\n",
              "      <td>0.000000</td>\n",
              "      <td>0.022392</td>\n",
              "      <td>2.000000</td>\n",
              "      <td>20.000000</td>\n",
              "      <td>22.000000</td>\n",
              "    </tr>\n",
              "    <tr>\n",
              "      <th>25%</th>\n",
              "      <td>183.500000</td>\n",
              "      <td>1.000000</td>\n",
              "      <td>0.337083</td>\n",
              "      <td>0.337842</td>\n",
              "      <td>0.520000</td>\n",
              "      <td>0.134950</td>\n",
              "      <td>315.500000</td>\n",
              "      <td>2497.000000</td>\n",
              "      <td>3152.000000</td>\n",
              "    </tr>\n",
              "    <tr>\n",
              "      <th>50%</th>\n",
              "      <td>366.000000</td>\n",
              "      <td>3.000000</td>\n",
              "      <td>0.498333</td>\n",
              "      <td>0.486733</td>\n",
              "      <td>0.626667</td>\n",
              "      <td>0.180975</td>\n",
              "      <td>713.000000</td>\n",
              "      <td>3662.000000</td>\n",
              "      <td>4548.000000</td>\n",
              "    </tr>\n",
              "    <tr>\n",
              "      <th>75%</th>\n",
              "      <td>548.500000</td>\n",
              "      <td>5.000000</td>\n",
              "      <td>0.655417</td>\n",
              "      <td>0.608602</td>\n",
              "      <td>0.730209</td>\n",
              "      <td>0.233214</td>\n",
              "      <td>1096.000000</td>\n",
              "      <td>4776.500000</td>\n",
              "      <td>5956.000000</td>\n",
              "    </tr>\n",
              "    <tr>\n",
              "      <th>max</th>\n",
              "      <td>731.000000</td>\n",
              "      <td>6.000000</td>\n",
              "      <td>0.861667</td>\n",
              "      <td>0.840896</td>\n",
              "      <td>0.972500</td>\n",
              "      <td>0.507463</td>\n",
              "      <td>3410.000000</td>\n",
              "      <td>6946.000000</td>\n",
              "      <td>8714.000000</td>\n",
              "    </tr>\n",
              "  </tbody>\n",
              "</table>\n",
              "</div>"
            ],
            "text/plain": [
              "          instant     weekday        temp       atemp         hum   windspeed  \\\n",
              "count  731.000000  731.000000  731.000000  731.000000  731.000000  731.000000   \n",
              "mean   366.000000    2.997264    0.495385    0.474354    0.627894    0.190486   \n",
              "std    211.165812    2.004787    0.183051    0.162961    0.142429    0.077498   \n",
              "min      1.000000    0.000000    0.059130    0.079070    0.000000    0.022392   \n",
              "25%    183.500000    1.000000    0.337083    0.337842    0.520000    0.134950   \n",
              "50%    366.000000    3.000000    0.498333    0.486733    0.626667    0.180975   \n",
              "75%    548.500000    5.000000    0.655417    0.608602    0.730209    0.233214   \n",
              "max    731.000000    6.000000    0.861667    0.840896    0.972500    0.507463   \n",
              "\n",
              "            casual   registered          cnt  \n",
              "count   731.000000   731.000000   731.000000  \n",
              "mean    848.176471  3656.172367  4504.348837  \n",
              "std     686.622488  1560.256377  1937.211452  \n",
              "min       2.000000    20.000000    22.000000  \n",
              "25%     315.500000  2497.000000  3152.000000  \n",
              "50%     713.000000  3662.000000  4548.000000  \n",
              "75%    1096.000000  4776.500000  5956.000000  \n",
              "max    3410.000000  6946.000000  8714.000000  "
            ]
          },
          "execution_count": 15,
          "metadata": {},
          "output_type": "execute_result"
        }
      ],
      "source": [
        "# Eksplorasi Parameter Statistik\n",
        "df.describe()"
      ]
    },
    {
      "cell_type": "code",
      "execution_count": 16,
      "metadata": {
        "colab": {
          "base_uri": "https://localhost:8080/",
          "height": 0
        },
        "id": "KZCZmquttzkU",
        "outputId": "897978d7-3110-4ba5-bac9-fd38912b6d30"
      },
      "outputs": [
        {
          "data": {
            "text/html": [
              "<div>\n",
              "<style scoped>\n",
              "    .dataframe tbody tr th:only-of-type {\n",
              "        vertical-align: middle;\n",
              "    }\n",
              "\n",
              "    .dataframe tbody tr th {\n",
              "        vertical-align: top;\n",
              "    }\n",
              "\n",
              "    .dataframe thead th {\n",
              "        text-align: right;\n",
              "    }\n",
              "</style>\n",
              "<table border=\"1\" class=\"dataframe\">\n",
              "  <thead>\n",
              "    <tr style=\"text-align: right;\">\n",
              "      <th></th>\n",
              "      <th></th>\n",
              "      <th>registered</th>\n",
              "      <th>casual</th>\n",
              "      <th>cnt</th>\n",
              "    </tr>\n",
              "    <tr>\n",
              "      <th>yr</th>\n",
              "      <th>mnth</th>\n",
              "      <th></th>\n",
              "      <th></th>\n",
              "      <th></th>\n",
              "    </tr>\n",
              "  </thead>\n",
              "  <tbody>\n",
              "    <tr>\n",
              "      <th rowspan=\"12\" valign=\"top\">2011</th>\n",
              "      <th>Agustus</th>\n",
              "      <td>107849</td>\n",
              "      <td>28842</td>\n",
              "      <td>136691</td>\n",
              "    </tr>\n",
              "    <tr>\n",
              "      <th>April</th>\n",
              "      <td>72524</td>\n",
              "      <td>22346</td>\n",
              "      <td>94870</td>\n",
              "    </tr>\n",
              "    <tr>\n",
              "      <th>Desember</th>\n",
              "      <td>78875</td>\n",
              "      <td>8448</td>\n",
              "      <td>87323</td>\n",
              "    </tr>\n",
              "    <tr>\n",
              "      <th>Februari</th>\n",
              "      <td>41973</td>\n",
              "      <td>6242</td>\n",
              "      <td>48215</td>\n",
              "    </tr>\n",
              "    <tr>\n",
              "      <th>Januari</th>\n",
              "      <td>35116</td>\n",
              "      <td>3073</td>\n",
              "      <td>38189</td>\n",
              "    </tr>\n",
              "    <tr>\n",
              "      <th>Juli</th>\n",
              "      <td>104889</td>\n",
              "      <td>36452</td>\n",
              "      <td>141341</td>\n",
              "    </tr>\n",
              "    <tr>\n",
              "      <th>Juni</th>\n",
              "      <td>112900</td>\n",
              "      <td>30612</td>\n",
              "      <td>143512</td>\n",
              "    </tr>\n",
              "    <tr>\n",
              "      <th>Maret</th>\n",
              "      <td>51219</td>\n",
              "      <td>12826</td>\n",
              "      <td>64045</td>\n",
              "    </tr>\n",
              "    <tr>\n",
              "      <th>Mei</th>\n",
              "      <td>104771</td>\n",
              "      <td>31050</td>\n",
              "      <td>135821</td>\n",
              "    </tr>\n",
              "    <tr>\n",
              "      <th>November</th>\n",
              "      <td>86573</td>\n",
              "      <td>15594</td>\n",
              "      <td>102167</td>\n",
              "    </tr>\n",
              "    <tr>\n",
              "      <th>Oktober</th>\n",
              "      <td>98289</td>\n",
              "      <td>25222</td>\n",
              "      <td>123511</td>\n",
              "    </tr>\n",
              "    <tr>\n",
              "      <th>September</th>\n",
              "      <td>100873</td>\n",
              "      <td>26545</td>\n",
              "      <td>127418</td>\n",
              "    </tr>\n",
              "    <tr>\n",
              "      <th rowspan=\"12\" valign=\"top\">2012</th>\n",
              "      <th>Agustus</th>\n",
              "      <td>171306</td>\n",
              "      <td>43197</td>\n",
              "      <td>214503</td>\n",
              "    </tr>\n",
              "    <tr>\n",
              "      <th>April</th>\n",
              "      <td>135768</td>\n",
              "      <td>38456</td>\n",
              "      <td>174224</td>\n",
              "    </tr>\n",
              "    <tr>\n",
              "      <th>Desember</th>\n",
              "      <td>110468</td>\n",
              "      <td>13245</td>\n",
              "      <td>123713</td>\n",
              "    </tr>\n",
              "    <tr>\n",
              "      <th>Februari</th>\n",
              "      <td>94416</td>\n",
              "      <td>8721</td>\n",
              "      <td>103137</td>\n",
              "    </tr>\n",
              "    <tr>\n",
              "      <th>Januari</th>\n",
              "      <td>87775</td>\n",
              "      <td>8969</td>\n",
              "      <td>96744</td>\n",
              "    </tr>\n",
              "    <tr>\n",
              "      <th>Juli</th>\n",
              "      <td>161902</td>\n",
              "      <td>41705</td>\n",
              "      <td>203607</td>\n",
              "    </tr>\n",
              "    <tr>\n",
              "      <th>Juni</th>\n",
              "      <td>159536</td>\n",
              "      <td>43294</td>\n",
              "      <td>202830</td>\n",
              "    </tr>\n",
              "    <tr>\n",
              "      <th>Maret</th>\n",
              "      <td>133257</td>\n",
              "      <td>31618</td>\n",
              "      <td>164875</td>\n",
              "    </tr>\n",
              "    <tr>\n",
              "      <th>Mei</th>\n",
              "      <td>151630</td>\n",
              "      <td>44235</td>\n",
              "      <td>195865</td>\n",
              "    </tr>\n",
              "    <tr>\n",
              "      <th>November</th>\n",
              "      <td>131655</td>\n",
              "      <td>21009</td>\n",
              "      <td>152664</td>\n",
              "    </tr>\n",
              "    <tr>\n",
              "      <th>Oktober</th>\n",
              "      <td>164303</td>\n",
              "      <td>34538</td>\n",
              "      <td>198841</td>\n",
              "    </tr>\n",
              "    <tr>\n",
              "      <th>September</th>\n",
              "      <td>174795</td>\n",
              "      <td>43778</td>\n",
              "      <td>218573</td>\n",
              "    </tr>\n",
              "  </tbody>\n",
              "</table>\n",
              "</div>"
            ],
            "text/plain": [
              "                registered  casual     cnt\n",
              "yr   mnth                                 \n",
              "2011 Agustus        107849   28842  136691\n",
              "     April           72524   22346   94870\n",
              "     Desember        78875    8448   87323\n",
              "     Februari        41973    6242   48215\n",
              "     Januari         35116    3073   38189\n",
              "     Juli           104889   36452  141341\n",
              "     Juni           112900   30612  143512\n",
              "     Maret           51219   12826   64045\n",
              "     Mei            104771   31050  135821\n",
              "     November        86573   15594  102167\n",
              "     Oktober         98289   25222  123511\n",
              "     September      100873   26545  127418\n",
              "2012 Agustus        171306   43197  214503\n",
              "     April          135768   38456  174224\n",
              "     Desember       110468   13245  123713\n",
              "     Februari        94416    8721  103137\n",
              "     Januari         87775    8969   96744\n",
              "     Juli           161902   41705  203607\n",
              "     Juni           159536   43294  202830\n",
              "     Maret          133257   31618  164875\n",
              "     Mei            151630   44235  195865\n",
              "     November       131655   21009  152664\n",
              "     Oktober        164303   34538  198841\n",
              "     September      174795   43778  218573"
            ]
          },
          "execution_count": 16,
          "metadata": {},
          "output_type": "execute_result"
        }
      ],
      "source": [
        "monthly_report = df.groupby(by=[\"yr\", \"mnth\"]).agg({\n",
        "    \"registered\" : 'sum',\n",
        "    \"casual\" : \"sum\",\n",
        "      \"cnt\" : \"sum\",\n",
        "})\n",
        "monthly_report"
      ]
    },
    {
      "cell_type": "code",
      "execution_count": 17,
      "metadata": {
        "colab": {
          "base_uri": "https://localhost:8080/",
          "height": 0
        },
        "id": "Le7yBBUCt22r",
        "outputId": "fe325d23-24b9-4c2c-c638-d1c497766f25"
      },
      "outputs": [
        {
          "data": {
            "text/html": [
              "<div>\n",
              "<style scoped>\n",
              "    .dataframe tbody tr th:only-of-type {\n",
              "        vertical-align: middle;\n",
              "    }\n",
              "\n",
              "    .dataframe tbody tr th {\n",
              "        vertical-align: top;\n",
              "    }\n",
              "\n",
              "    .dataframe thead th {\n",
              "        text-align: right;\n",
              "    }\n",
              "</style>\n",
              "<table border=\"1\" class=\"dataframe\">\n",
              "  <thead>\n",
              "    <tr style=\"text-align: right;\">\n",
              "      <th>weathersit</th>\n",
              "      <th>1</th>\n",
              "      <th>2</th>\n",
              "      <th>3</th>\n",
              "    </tr>\n",
              "    <tr>\n",
              "      <th>season</th>\n",
              "      <th></th>\n",
              "      <th></th>\n",
              "      <th></th>\n",
              "    </tr>\n",
              "  </thead>\n",
              "  <tbody>\n",
              "    <tr>\n",
              "      <th>fall</th>\n",
              "      <td>5878.257353</td>\n",
              "      <td>5222.479167</td>\n",
              "      <td>2751.75</td>\n",
              "    </tr>\n",
              "    <tr>\n",
              "      <th>springer</th>\n",
              "      <td>2811.135135</td>\n",
              "      <td>2357.166667</td>\n",
              "      <td>934.75</td>\n",
              "    </tr>\n",
              "    <tr>\n",
              "      <th>summer</th>\n",
              "      <td>5548.548673</td>\n",
              "      <td>4236.705882</td>\n",
              "      <td>1169.00</td>\n",
              "    </tr>\n",
              "    <tr>\n",
              "      <th>winter</th>\n",
              "      <td>5043.563107</td>\n",
              "      <td>4654.000000</td>\n",
              "      <td>1961.60</td>\n",
              "    </tr>\n",
              "  </tbody>\n",
              "</table>\n",
              "</div>"
            ],
            "text/plain": [
              "weathersit            1            2        3\n",
              "season                                       \n",
              "fall        5878.257353  5222.479167  2751.75\n",
              "springer    2811.135135  2357.166667   934.75\n",
              "summer      5548.548673  4236.705882  1169.00\n",
              "winter      5043.563107  4654.000000  1961.60"
            ]
          },
          "execution_count": 17,
          "metadata": {},
          "output_type": "execute_result"
        }
      ],
      "source": [
        "pivot_table = df.pivot_table(values=\"cnt\", index=\"season\", columns=\"weathersit\", aggfunc=\"mean\")\n",
        "pivot_table"
      ]
    },
    {
      "cell_type": "markdown",
      "metadata": {
        "id": "SCNmtOLp9OKB"
      },
      "source": [
        "## Visualization & Explanatory Analysis"
      ]
    },
    {
      "cell_type": "markdown",
      "metadata": {
        "id": "SG59_Fbj9Qr6"
      },
      "source": [
        "### Pertanyaan 1:"
      ]
    },
    {
      "cell_type": "code",
      "execution_count": 18,
      "metadata": {
        "id": "I6ryhLWh188O"
      },
      "outputs": [],
      "source": [
        "df['dteday'] = pd.to_datetime(df['dteday'])"
      ]
    },
    {
      "cell_type": "code",
      "execution_count": 19,
      "metadata": {
        "id": "onSQ_mnm4mbW"
      },
      "outputs": [],
      "source": [
        "yr2011 = df[df[\"yr\"]==\"2011\"]\n",
        "yr2012 = df[df[\"yr\"]==\"2012\"]"
      ]
    },
    {
      "cell_type": "code",
      "execution_count": 20,
      "metadata": {
        "id": "bbzs752F7eFA"
      },
      "outputs": [],
      "source": [
        "gbm2012 = yr2012.groupby(by=[\"mnth\"])[\"cnt\"].sum()\n",
        "gbm2011 = yr2011.groupby(by=[\"mnth\"])[\"cnt\"].sum()\n",
        "# Set month order\n",
        "month_order = ['Januari', 'Februari', 'Maret', 'April', 'Mei', 'Juni', 'Juli', 'Agustus', 'September', 'Oktober', 'November', 'Desember']"
      ]
    },
    {
      "cell_type": "code",
      "execution_count": 21,
      "metadata": {
        "colab": {
          "base_uri": "https://localhost:8080/"
        },
        "id": "WMxMFsK39R77",
        "outputId": "63856c50-28d4-4c16-e1c3-3456eac17949"
      },
      "outputs": [
        {
          "data": {
            "text/plain": [
              "mnth\n",
              "Januari       96744\n",
              "Februari     103137\n",
              "Maret        164875\n",
              "April        174224\n",
              "Mei          195865\n",
              "Juni         202830\n",
              "Juli         203607\n",
              "Agustus      214503\n",
              "September    218573\n",
              "Oktober      198841\n",
              "November     152664\n",
              "Desember     123713\n",
              "Name: cnt, dtype: int64"
            ]
          },
          "execution_count": 21,
          "metadata": {},
          "output_type": "execute_result"
        }
      ],
      "source": [
        "# Sort dataframe by month order\n",
        "gbm2012 = gbm2012.loc[month_order]\n",
        "gbm2012"
      ]
    },
    {
      "cell_type": "code",
      "execution_count": 22,
      "metadata": {
        "colab": {
          "base_uri": "https://localhost:8080/",
          "height": 501
        },
        "id": "j8WGZB3R-8sX",
        "outputId": "6f45ccfc-f7f1-4e97-a4e0-ddf2819955f1"
      },
      "outputs": [
        {
          "data": {
            "image/png": "[encoded data removed]",
            "text/plain": [
              "<Figure size 1200x500 with 1 Axes>"
            ]
          },
          "metadata": {},
          "output_type": "display_data"
        }
      ],
      "source": [
        "plt.figure(figsize=(12, 5))\n",
        "sns.lineplot(gbm2012)\n",
        "plt.title('cnt grouped by Month 2012', size=20)\n",
        "plt.xlabel('Month',size=15)\n",
        "plt.ylabel('CNT',size=15)\n",
        "plt.show();"
      ]
    },
    {
      "cell_type": "code",
      "execution_count": 23,
      "metadata": {
        "colab": {
          "base_uri": "https://localhost:8080/"
        },
        "id": "k8dJV89O9UK1",
        "outputId": "70ce05a1-fede-4865-a33a-5b1662c7bbdf"
      },
      "outputs": [
        {
          "data": {
            "text/plain": [
              "mnth\n",
              "Januari       38189\n",
              "Februari      48215\n",
              "Maret         64045\n",
              "April         94870\n",
              "Mei          135821\n",
              "Juni         143512\n",
              "Juli         141341\n",
              "Agustus      136691\n",
              "September    127418\n",
              "Oktober      123511\n",
              "November     102167\n",
              "Desember      87323\n",
              "Name: cnt, dtype: int64"
            ]
          },
          "execution_count": 23,
          "metadata": {},
          "output_type": "execute_result"
        }
      ],
      "source": [
        "gbm2011 = gbm2011.loc[month_order]\n",
        "gbm2011"
      ]
    },
    {
      "cell_type": "code",
      "execution_count": 24,
      "metadata": {
        "colab": {
          "base_uri": "https://localhost:8080/",
          "height": 501
        },
        "id": "gP4wwfQr-CP3",
        "outputId": "a01901b7-515c-4a6c-ee8a-ce412ec46874"
      },
      "outputs": [
        {
          "data": {
            "image/png": "[encoded data removed]",
            "text/plain": [
              "<Figure size 1200x500 with 1 Axes>"
            ]
          },
          "metadata": {},
          "output_type": "display_data"
        }
      ],
      "source": [
        "plt.figure(figsize=(12, 5))\n",
        "sns.lineplot(gbm2011)\n",
        "plt.title('cnt grouped by Month 2011', size=20)\n",
        "plt.xlabel('Month',size=15)\n",
        "plt.ylabel('CNT',size=15)\n",
        "plt.show();"
      ]
    },
    {
      "cell_type": "code",
      "execution_count": 25,
      "metadata": {
        "colab": {
          "base_uri": "https://localhost:8080/",
          "height": 614
        },
        "id": "yirj7HIu5QP3",
        "outputId": "8946dd86-cbc8-4ffb-8ee7-d21c66946859"
      },
      "outputs": [
        {
          "data": {
            "text/html": [
              "<div>\n",
              "<style scoped>\n",
              "    .dataframe tbody tr th:only-of-type {\n",
              "        vertical-align: middle;\n",
              "    }\n",
              "\n",
              "    .dataframe tbody tr th {\n",
              "        vertical-align: top;\n",
              "    }\n",
              "\n",
              "    .dataframe thead tr th {\n",
              "        text-align: left;\n",
              "    }\n",
              "\n",
              "    .dataframe thead tr:last-of-type th {\n",
              "        text-align: right;\n",
              "    }\n",
              "</style>\n",
              "<table border=\"1\" class=\"dataframe\">\n",
              "  <thead>\n",
              "    <tr>\n",
              "      <th></th>\n",
              "      <th></th>\n",
              "      <th colspan=\"2\" halign=\"left\">cnt</th>\n",
              "    </tr>\n",
              "    <tr>\n",
              "      <th></th>\n",
              "      <th></th>\n",
              "      <th>sum</th>\n",
              "      <th>mean</th>\n",
              "    </tr>\n",
              "    <tr>\n",
              "      <th>season</th>\n",
              "      <th>mnth</th>\n",
              "      <th></th>\n",
              "      <th></th>\n",
              "    </tr>\n",
              "  </thead>\n",
              "  <tbody>\n",
              "    <tr>\n",
              "      <th rowspan=\"4\" valign=\"top\">fall</th>\n",
              "      <th>Agustus</th>\n",
              "      <td>136691</td>\n",
              "      <td>4409.387097</td>\n",
              "    </tr>\n",
              "    <tr>\n",
              "      <th>Juli</th>\n",
              "      <td>141341</td>\n",
              "      <td>4559.387097</td>\n",
              "    </tr>\n",
              "    <tr>\n",
              "      <th>Juni</th>\n",
              "      <td>49726</td>\n",
              "      <td>4972.600000</td>\n",
              "    </tr>\n",
              "    <tr>\n",
              "      <th>September</th>\n",
              "      <td>91892</td>\n",
              "      <td>4176.909091</td>\n",
              "    </tr>\n",
              "    <tr>\n",
              "      <th rowspan=\"4\" valign=\"top\">springer</th>\n",
              "      <th>Desember</th>\n",
              "      <td>22390</td>\n",
              "      <td>2035.454545</td>\n",
              "    </tr>\n",
              "    <tr>\n",
              "      <th>Februari</th>\n",
              "      <td>48215</td>\n",
              "      <td>1721.964286</td>\n",
              "    </tr>\n",
              "    <tr>\n",
              "      <th>Januari</th>\n",
              "      <td>38189</td>\n",
              "      <td>1231.903226</td>\n",
              "    </tr>\n",
              "    <tr>\n",
              "      <th>Maret</th>\n",
              "      <td>41206</td>\n",
              "      <td>2060.300000</td>\n",
              "    </tr>\n",
              "    <tr>\n",
              "      <th rowspan=\"4\" valign=\"top\">summer</th>\n",
              "      <th>April</th>\n",
              "      <td>94870</td>\n",
              "      <td>3162.333333</td>\n",
              "    </tr>\n",
              "    <tr>\n",
              "      <th>Juni</th>\n",
              "      <td>93786</td>\n",
              "      <td>4689.300000</td>\n",
              "    </tr>\n",
              "    <tr>\n",
              "      <th>Maret</th>\n",
              "      <td>22839</td>\n",
              "      <td>2076.272727</td>\n",
              "    </tr>\n",
              "    <tr>\n",
              "      <th>Mei</th>\n",
              "      <td>135821</td>\n",
              "      <td>4381.322581</td>\n",
              "    </tr>\n",
              "    <tr>\n",
              "      <th rowspan=\"4\" valign=\"top\">winter</th>\n",
              "      <th>Desember</th>\n",
              "      <td>64933</td>\n",
              "      <td>3246.650000</td>\n",
              "    </tr>\n",
              "    <tr>\n",
              "      <th>November</th>\n",
              "      <td>102167</td>\n",
              "      <td>3405.566667</td>\n",
              "    </tr>\n",
              "    <tr>\n",
              "      <th>Oktober</th>\n",
              "      <td>123511</td>\n",
              "      <td>3984.225806</td>\n",
              "    </tr>\n",
              "    <tr>\n",
              "      <th>September</th>\n",
              "      <td>35526</td>\n",
              "      <td>4440.750000</td>\n",
              "    </tr>\n",
              "  </tbody>\n",
              "</table>\n",
              "</div>"
            ],
            "text/plain": [
              "                       cnt             \n",
              "                       sum         mean\n",
              "season   mnth                          \n",
              "fall     Agustus    136691  4409.387097\n",
              "         Juli       141341  4559.387097\n",
              "         Juni        49726  4972.600000\n",
              "         September   91892  4176.909091\n",
              "springer Desember    22390  2035.454545\n",
              "         Februari    48215  1721.964286\n",
              "         Januari     38189  1231.903226\n",
              "         Maret       41206  2060.300000\n",
              "summer   April       94870  3162.333333\n",
              "         Juni        93786  4689.300000\n",
              "         Maret       22839  2076.272727\n",
              "         Mei        135821  4381.322581\n",
              "winter   Desember    64933  3246.650000\n",
              "         November   102167  3405.566667\n",
              "         Oktober    123511  3984.225806\n",
              "         September   35526  4440.750000"
            ]
          },
          "execution_count": 25,
          "metadata": {},
          "output_type": "execute_result"
        }
      ],
      "source": [
        "yr2011.groupby(by=[\"season\", \"mnth\"]).agg({\n",
        "    \"cnt\" : [\"sum\", \"mean\"]\n",
        "})"
      ]
    },
    {
      "cell_type": "code",
      "execution_count": 26,
      "metadata": {
        "colab": {
          "base_uri": "https://localhost:8080/",
          "height": 614
        },
        "id": "VnyQpi995zjO",
        "outputId": "dec05b82-e338-4973-d50b-4c2af91f001e"
      },
      "outputs": [
        {
          "data": {
            "text/html": [
              "<div>\n",
              "<style scoped>\n",
              "    .dataframe tbody tr th:only-of-type {\n",
              "        vertical-align: middle;\n",
              "    }\n",
              "\n",
              "    .dataframe tbody tr th {\n",
              "        vertical-align: top;\n",
              "    }\n",
              "\n",
              "    .dataframe thead tr th {\n",
              "        text-align: left;\n",
              "    }\n",
              "\n",
              "    .dataframe thead tr:last-of-type th {\n",
              "        text-align: right;\n",
              "    }\n",
              "</style>\n",
              "<table border=\"1\" class=\"dataframe\">\n",
              "  <thead>\n",
              "    <tr>\n",
              "      <th></th>\n",
              "      <th></th>\n",
              "      <th colspan=\"2\" halign=\"left\">cnt</th>\n",
              "    </tr>\n",
              "    <tr>\n",
              "      <th></th>\n",
              "      <th></th>\n",
              "      <th>sum</th>\n",
              "      <th>mean</th>\n",
              "    </tr>\n",
              "    <tr>\n",
              "      <th>season</th>\n",
              "      <th>mnth</th>\n",
              "      <th></th>\n",
              "      <th></th>\n",
              "    </tr>\n",
              "  </thead>\n",
              "  <tbody>\n",
              "    <tr>\n",
              "      <th rowspan=\"4\" valign=\"top\">fall</th>\n",
              "      <th>Agustus</th>\n",
              "      <td>214503</td>\n",
              "      <td>6919.451613</td>\n",
              "    </tr>\n",
              "    <tr>\n",
              "      <th>Juli</th>\n",
              "      <td>203607</td>\n",
              "      <td>6567.967742</td>\n",
              "    </tr>\n",
              "    <tr>\n",
              "      <th>Juni</th>\n",
              "      <td>65662</td>\n",
              "      <td>6566.200000</td>\n",
              "    </tr>\n",
              "    <tr>\n",
              "      <th>September</th>\n",
              "      <td>157707</td>\n",
              "      <td>7168.500000</td>\n",
              "    </tr>\n",
              "    <tr>\n",
              "      <th rowspan=\"4\" valign=\"top\">springer</th>\n",
              "      <th>Desember</th>\n",
              "      <td>20608</td>\n",
              "      <td>1873.454545</td>\n",
              "    </tr>\n",
              "    <tr>\n",
              "      <th>Februari</th>\n",
              "      <td>103137</td>\n",
              "      <td>3556.448276</td>\n",
              "    </tr>\n",
              "    <tr>\n",
              "      <th>Januari</th>\n",
              "      <td>96744</td>\n",
              "      <td>3120.774194</td>\n",
              "    </tr>\n",
              "    <tr>\n",
              "      <th>Maret</th>\n",
              "      <td>100859</td>\n",
              "      <td>5042.950000</td>\n",
              "    </tr>\n",
              "    <tr>\n",
              "      <th rowspan=\"4\" valign=\"top\">summer</th>\n",
              "      <th>April</th>\n",
              "      <td>174224</td>\n",
              "      <td>5807.466667</td>\n",
              "    </tr>\n",
              "    <tr>\n",
              "      <th>Juni</th>\n",
              "      <td>137168</td>\n",
              "      <td>6858.400000</td>\n",
              "    </tr>\n",
              "    <tr>\n",
              "      <th>Maret</th>\n",
              "      <td>64016</td>\n",
              "      <td>5819.636364</td>\n",
              "    </tr>\n",
              "    <tr>\n",
              "      <th>Mei</th>\n",
              "      <td>195865</td>\n",
              "      <td>6318.225806</td>\n",
              "    </tr>\n",
              "    <tr>\n",
              "      <th rowspan=\"4\" valign=\"top\">winter</th>\n",
              "      <th>Desember</th>\n",
              "      <td>103105</td>\n",
              "      <td>5155.250000</td>\n",
              "    </tr>\n",
              "    <tr>\n",
              "      <th>November</th>\n",
              "      <td>152664</td>\n",
              "      <td>5088.800000</td>\n",
              "    </tr>\n",
              "    <tr>\n",
              "      <th>Oktober</th>\n",
              "      <td>198841</td>\n",
              "      <td>6414.225806</td>\n",
              "    </tr>\n",
              "    <tr>\n",
              "      <th>September</th>\n",
              "      <td>60866</td>\n",
              "      <td>7608.250000</td>\n",
              "    </tr>\n",
              "  </tbody>\n",
              "</table>\n",
              "</div>"
            ],
            "text/plain": [
              "                       cnt             \n",
              "                       sum         mean\n",
              "season   mnth                          \n",
              "fall     Agustus    214503  6919.451613\n",
              "         Juli       203607  6567.967742\n",
              "         Juni        65662  6566.200000\n",
              "         September  157707  7168.500000\n",
              "springer Desember    20608  1873.454545\n",
              "         Februari   103137  3556.448276\n",
              "         Januari     96744  3120.774194\n",
              "         Maret      100859  5042.950000\n",
              "summer   April      174224  5807.466667\n",
              "         Juni       137168  6858.400000\n",
              "         Maret       64016  5819.636364\n",
              "         Mei        195865  6318.225806\n",
              "winter   Desember   103105  5155.250000\n",
              "         November   152664  5088.800000\n",
              "         Oktober    198841  6414.225806\n",
              "         September   60866  7608.250000"
            ]
          },
          "execution_count": 26,
          "metadata": {},
          "output_type": "execute_result"
        }
      ],
      "source": [
        "yr2012.groupby(by=[\"season\", \"mnth\"]).agg({\n",
        "    \"cnt\" : [\"sum\", \"mean\"]\n",
        "})"
      ]
    },
    {
      "cell_type": "markdown",
      "metadata": {
        "id": "F2Bo_ypQ9RfH"
      },
      "source": [
        "### Pertanyaan 2:"
      ]
    },
    {
      "cell_type": "code",
      "execution_count": 27,
      "metadata": {
        "colab": {
          "base_uri": "https://localhost:8080/",
          "height": 452
        },
        "id": "uEOx8Yk1rCAM",
        "outputId": "ccaab04a-bf0a-4186-9ff8-f36c4248a29b"
      },
      "outputs": [
        {
          "data": {
            "image/png": "[encoded data removed]",
            "text/plain": [
              "<Figure size 640x480 with 1 Axes>"
            ]
          },
          "metadata": {},
          "output_type": "display_data"
        }
      ],
      "source": [
        "plt.bar(x=df.season, height=df.cnt)\n",
        "plt.title(\"Jumlah peminjam berdasarkan musim\")\n",
        "plt.show()"
      ]
    },
    {
      "cell_type": "code",
      "execution_count": 28,
      "metadata": {
        "colab": {
          "base_uri": "https://localhost:8080/",
          "height": 452
        },
        "id": "5KIvC95CYVKI",
        "outputId": "bb90f0a7-d6a4-4126-cb64-d3ef3e3605b0"
      },
      "outputs": [
        {
          "data": {
            "image/png": "[encoded data removed]",
            "text/plain": [
              "<Figure size 640x480 with 1 Axes>"
            ]
          },
          "metadata": {},
          "output_type": "display_data"
        }
      ],
      "source": [
        "plt.bar(x=df.season, height=df.cnt)\n",
        "plt.title(\"Jumlah peminjam berdasarkan musim\")\n",
        "plt.show()"
      ]
    },
    {
      "cell_type": "code",
      "execution_count": 29,
      "metadata": {
        "colab": {
          "base_uri": "https://localhost:8080/",
          "height": 541
        },
        "id": "n4Q1NBG9ap-L",
        "outputId": "46f75b66-1678-4539-a81e-a1fcc3c4f7a9"
      },
      "outputs": [
        {
          "name": "stderr",
          "output_type": "stream",
          "text": [
            "C:\\Users\\Dell Latitude 7280\\AppData\\Local\\Temp\\ipykernel_1740\\3552460247.py:1: FutureWarning: \n",
            "\n",
            "The `ci` parameter is deprecated. Use `errorbar=None` for the same effect.\n",
            "\n",
            "  sns.barplot(data=df, x=\"season\", y=\"cnt\", hue=\"weathersit\", ci=None);\n"
          ]
        },
        {
          "data": {
            "image/png": "[encoded data removed]",
            "text/plain": [
              "<Figure size 640x480 with 1 Axes>"
            ]
          },
          "metadata": {},
          "output_type": "display_data"
        }
      ],
      "source": [
        "sns.barplot(data=df, x=\"season\", y=\"cnt\", hue=\"weathersit\", ci=None);"
      ]
    },
    {
      "cell_type": "markdown",
      "metadata": {
        "id": "J2CnXYGT9Tc2"
      },
      "source": [
        "## Conclusion"
      ]
    },
    {
      "cell_type": "markdown",
      "metadata": {
        "id": "f73FBkLw9V8C"
      },
      "source": [
        "- Peminjaman tertinggi ada di bulan 4/2012 hingga 10/2012. dapat dilihat ada penigkatan pada tahun 2012\n",
        "- Jumlah peminjaman sepeda paling tinggi berada di musim gugur dengan kondisi cuaca 1 dan paling rendah pada musim semi dengan kondisi cuaca 3"
      ]
    },
    {
      "cell_type": "code",
      "execution_count": 30,
      "metadata": {},
      "outputs": [],
      "source": [
        "gbm2011.to_csv('gbm2011.csv', index=False)\n",
        "gbm2012.to_csv('gbm2012.csv', index=False)\n",
        "df.to_csv('df.csv', index=False)"
      ]
    }
  ],
  "metadata": {
    "colab": {
      "provenance": []
    },
    "kernelspec": {
      "display_name": "Python 3",
      "name": "python3"
    },
    "language_info": {
      "codemirror_mode": {
        "name": "ipython",
        "version": 3
      },
      "file_extension": ".py",
      "mimetype": "text/x-python",
      "name": "python",
      "nbconvert_exporter": "python",
      "pygments_lexer": "ipython3",
      "version": "3.11.2"
    }
  },
  "nbformat": 4,
  "nbformat_minor": 0
}
